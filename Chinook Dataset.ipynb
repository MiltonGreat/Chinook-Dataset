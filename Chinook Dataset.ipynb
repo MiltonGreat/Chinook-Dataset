{
 "cells": [
  {
   "cell_type": "markdown",
   "id": "cb7ff9e4-3c59-4867-9ed2-66d05ec6f481",
   "metadata": {},
   "source": [
    "# Chinook Dataset"
   ]
  },
  {
   "cell_type": "code",
   "execution_count": 1,
   "id": "6ad8e87e-125a-49e3-81e3-52f84774b451",
   "metadata": {},
   "outputs": [],
   "source": [
    "# Import necessary libraries\n",
    "import sqlite3\n",
    "import pandas as pd\n",
    "import matplotlib.pyplot as plt\n",
    "import seaborn as sns"
   ]
  },
  {
   "cell_type": "code",
   "execution_count": 2,
   "id": "a6801dde-94f3-4439-b4b6-a826a7018c08",
   "metadata": {},
   "outputs": [],
   "source": [
    "# Path to the SQLite database file\n",
    "db_path = 'Chinook_Sqlite.sqlite'\n",
    "\n",
    "# Connect to the database\n",
    "conn = sqlite3.connect(db_path)\n",
    "\n",
    "# Helper function to run SQL queries\n",
    "def run_query(query):\n",
    "    return pd.read_sql_query(query, conn)"
   ]
  },
  {
   "cell_type": "code",
   "execution_count": 3,
   "id": "2c3cc8d4-6062-49ae-bb10-cd7adc1dfc1d",
   "metadata": {},
   "outputs": [
    {
     "name": "stdout",
     "output_type": "stream",
     "text": [
      "Available tables in the Chinook Database:\n",
      "             name\n",
      "0           Album\n",
      "1          Artist\n",
      "2        Customer\n",
      "3        Employee\n",
      "4           Genre\n",
      "5         Invoice\n",
      "6     InvoiceLine\n",
      "7       MediaType\n",
      "8        Playlist\n",
      "9   PlaylistTrack\n",
      "10          Track\n"
     ]
    }
   ],
   "source": [
    "query = \"SELECT name FROM sqlite_master WHERE type='table';\"\n",
    "tables = run_query(query)\n",
    "print(\"Available tables in the Chinook Database:\")\n",
    "print(tables)"
   ]
  },
  {
   "cell_type": "code",
   "execution_count": 4,
   "id": "405f963e-d549-41ad-93f0-dcda2341bb7e",
   "metadata": {},
   "outputs": [
    {
     "name": "stdout",
     "output_type": "stream",
     "text": [
      "\n",
      "Schema for the 'Album' table:\n",
      "   cid      name           type  notnull dflt_value  pk\n",
      "0    0   AlbumId        INTEGER        1       None   1\n",
      "1    1     Title  NVARCHAR(160)        1       None   0\n",
      "2    2  ArtistId        INTEGER        1       None   0\n"
     ]
    }
   ],
   "source": [
    "query = \"PRAGMA table_info(Album);\"\n",
    "album_schema = run_query(query)\n",
    "print(\"\\nSchema for the 'Album' table:\")\n",
    "print(album_schema)"
   ]
  },
  {
   "cell_type": "code",
   "execution_count": 5,
   "id": "19edfe63-678e-4177-aa72-f08c49fc4fb8",
   "metadata": {},
   "outputs": [
    {
     "name": "stdout",
     "output_type": "stream",
     "text": [
      "\n",
      "Sample data from the 'Album' table:\n",
      "   AlbumId                                  Title  ArtistId\n",
      "0        1  For Those About To Rock We Salute You         1\n",
      "1        2                      Balls to the Wall         2\n",
      "2        3                      Restless and Wild         2\n",
      "3        4                      Let There Be Rock         1\n",
      "4        5                               Big Ones         3\n"
     ]
    }
   ],
   "source": [
    "query = \"SELECT * FROM Album LIMIT 5;\"\n",
    "album_sample = run_query(query)\n",
    "print(\"\\nSample data from the 'Album' table:\")\n",
    "print(album_sample)"
   ]
  },
  {
   "cell_type": "code",
   "execution_count": 6,
   "id": "6de6c0c3-75ef-4e36-91c3-93d34fb0f1ee",
   "metadata": {},
   "outputs": [
    {
     "name": "stdout",
     "output_type": "stream",
     "text": [
      "             name\n",
      "0           Album\n",
      "1          Artist\n",
      "2        Customer\n",
      "3        Employee\n",
      "4           Genre\n",
      "5         Invoice\n",
      "6     InvoiceLine\n",
      "7       MediaType\n",
      "8        Playlist\n",
      "9   PlaylistTrack\n",
      "10          Track\n"
     ]
    }
   ],
   "source": [
    "query = \"SELECT name FROM sqlite_master WHERE type='table';\"\n",
    "tables = run_query(query)\n",
    "print(tables)"
   ]
  },
  {
   "cell_type": "code",
   "execution_count": 7,
   "id": "a908c719-f0cd-4ddb-bd17-67833c10ca7a",
   "metadata": {},
   "outputs": [],
   "source": [
    "# Start Exploring Relationships"
   ]
  },
  {
   "cell_type": "code",
   "execution_count": 8,
   "id": "a000432d-9d85-45be-b55e-3c8301a55d7e",
   "metadata": {},
   "outputs": [
    {
     "name": "stdout",
     "output_type": "stream",
     "text": [
      "\n",
      "Top 5 Most Popular Genres:\n",
      "                Genre  TrackCount\n",
      "0                Rock        1297\n",
      "1               Latin         579\n",
      "2               Metal         374\n",
      "3  Alternative & Punk         332\n",
      "4                Jazz         130\n"
     ]
    }
   ],
   "source": [
    "# Explore Relationships: Sample Queries\n",
    "\n",
    "# 1. Top 5 most popular genres by track count\n",
    "query = \"\"\"\n",
    "SELECT g.Name AS Genre, COUNT(t.TrackId) AS TrackCount\n",
    "FROM Genre g\n",
    "JOIN Track t ON g.GenreId = t.GenreId\n",
    "GROUP BY g.Name\n",
    "ORDER BY TrackCount DESC\n",
    "LIMIT 5;\n",
    "\"\"\"\n",
    "popular_genres = run_query(query)\n",
    "print(\"\\nTop 5 Most Popular Genres:\")\n",
    "print(popular_genres)\n"
   ]
  },
  {
   "cell_type": "code",
   "execution_count": 9,
   "id": "7f452247-27b6-4364-be08-b7c50bf0a57e",
   "metadata": {},
   "outputs": [
    {
     "name": "stdout",
     "output_type": "stream",
     "text": [
      "\n",
      "Total Sales by Country:\n",
      "           Country  TotalSales\n",
      "0              USA      523.06\n",
      "1           Canada      303.96\n",
      "2           France      195.10\n",
      "3           Brazil      190.10\n",
      "4          Germany      156.48\n",
      "5   United Kingdom      112.86\n",
      "6   Czech Republic       90.24\n",
      "7         Portugal       77.24\n",
      "8            India       75.26\n",
      "9            Chile       46.62\n",
      "10         Ireland       45.62\n",
      "11         Hungary       45.62\n",
      "12         Austria       42.62\n",
      "13         Finland       41.62\n",
      "14     Netherlands       40.62\n",
      "15          Norway       39.62\n",
      "16          Sweden       38.62\n",
      "17           Spain       37.62\n",
      "18          Poland       37.62\n",
      "19           Italy       37.62\n",
      "20         Denmark       37.62\n",
      "21         Belgium       37.62\n",
      "22       Australia       37.62\n",
      "23       Argentina       37.62\n"
     ]
    }
   ],
   "source": [
    "# 2. Total sales by country\n",
    "query = \"\"\"\n",
    "SELECT c.Country, SUM(il.UnitPrice * il.Quantity) AS TotalSales\n",
    "FROM Customer c\n",
    "JOIN Invoice i ON c.CustomerId = i.CustomerId\n",
    "JOIN InvoiceLine il ON i.InvoiceId = il.InvoiceId\n",
    "GROUP BY c.Country\n",
    "ORDER BY TotalSales DESC;\n",
    "\"\"\"\n",
    "sales_by_country = run_query(query)\n",
    "print(\"\\nTotal Sales by Country:\")\n",
    "print(sales_by_country)"
   ]
  },
  {
   "cell_type": "code",
   "execution_count": 10,
   "id": "cef9ba87-811e-4d37-b3b0-318baae81ade",
   "metadata": {},
   "outputs": [
    {
     "name": "stdout",
     "output_type": "stream",
     "text": [
      "\n",
      "Top 10 Customers by Total Purchases:\n",
      "         CustomerName  TotalPurchases\n",
      "0         Helena Holý           49.62\n",
      "1  Richard Cunningham           47.62\n",
      "2          Luis Rojas           46.62\n",
      "3       Hugh O'Reilly           45.62\n",
      "4     Ladislav Kovács           45.62\n",
      "5     Fynn Zimmermann           43.62\n",
      "6       Julia Barnett           43.62\n",
      "7       Frank Ralston           43.62\n",
      "8      Victor Stevens           42.62\n",
      "9       Astrid Gruber           42.62\n"
     ]
    }
   ],
   "source": [
    "# 3. Top customers by total purchases\n",
    "query = \"\"\"\n",
    "SELECT c.FirstName || ' ' || c.LastName AS CustomerName, SUM(il.UnitPrice * il.Quantity) AS TotalPurchases\n",
    "FROM Customer c\n",
    "JOIN Invoice i ON c.CustomerId = i.CustomerId\n",
    "JOIN InvoiceLine il ON i.InvoiceId = il.InvoiceId\n",
    "GROUP BY c.CustomerId\n",
    "ORDER BY TotalPurchases DESC\n",
    "LIMIT 10;\n",
    "\"\"\"\n",
    "top_customers = run_query(query)\n",
    "print(\"\\nTop 10 Customers by Total Purchases:\")\n",
    "print(top_customers)"
   ]
  },
  {
   "cell_type": "code",
   "execution_count": 11,
   "id": "c7922cb9-674b-4515-8a4b-3d8621a2678c",
   "metadata": {},
   "outputs": [
    {
     "name": "stdout",
     "output_type": "stream",
     "text": [
      "\n",
      "Sales Per Employee:\n",
      "    EmployeeName  TotalSales\n",
      "0   Jane Peacock      833.04\n",
      "1  Margaret Park      775.40\n",
      "2  Steve Johnson      720.16\n"
     ]
    }
   ],
   "source": [
    "# 4. Sales per employee who facilitated the transaction\n",
    "query = \"\"\"\n",
    "SELECT e.FirstName || ' ' || e.LastName AS EmployeeName, SUM(il.UnitPrice * il.Quantity) AS TotalSales\n",
    "FROM Employee e\n",
    "JOIN Customer c ON e.EmployeeId = c.SupportRepId\n",
    "JOIN Invoice i ON c.CustomerId = i.CustomerId\n",
    "JOIN InvoiceLine il ON i.InvoiceId = il.InvoiceId\n",
    "GROUP BY e.EmployeeId\n",
    "ORDER BY TotalSales DESC;\n",
    "\"\"\"\n",
    "sales_per_employee = run_query(query)\n",
    "print(\"\\nSales Per Employee:\")\n",
    "print(sales_per_employee)"
   ]
  },
  {
   "cell_type": "code",
   "execution_count": 12,
   "id": "c062f012-389a-475b-bd85-3e0516359cea",
   "metadata": {},
   "outputs": [
    {
     "name": "stdout",
     "output_type": "stream",
     "text": [
      "\n",
      "Albums with the Highest Number of Tracks:\n",
      "       AlbumTitle  TrackCount\n",
      "0   Greatest Hits          57\n",
      "1  Minha Historia          34\n",
      "2       Unplugged          30\n",
      "3  Lost, Season 3          26\n",
      "4  Lost, Season 1          25\n"
     ]
    }
   ],
   "source": [
    "# 5. Albums with the highest number of tracks\n",
    "query = \"\"\"\n",
    "SELECT al.Title AS AlbumTitle, COUNT(t.TrackId) AS TrackCount\n",
    "FROM Album al\n",
    "JOIN Track t ON al.AlbumId = t.AlbumId\n",
    "GROUP BY al.AlbumId\n",
    "ORDER BY TrackCount DESC\n",
    "LIMIT 5;\n",
    "\"\"\"\n",
    "albums_with_most_tracks = run_query(query)\n",
    "print(\"\\nAlbums with the Highest Number of Tracks:\")\n",
    "print(albums_with_most_tracks)"
   ]
  },
  {
   "cell_type": "code",
   "execution_count": 13,
   "id": "e824f7e8-e2a1-4142-8dd1-7d5203f5cc08",
   "metadata": {},
   "outputs": [
    {
     "name": "stderr",
     "output_type": "stream",
     "text": [
      "C:\\Users\\milto\\AppData\\Local\\Temp\\ipykernel_16000\\935104853.py:14: FutureWarning: \n",
      "\n",
      "Passing `palette` without assigning `hue` is deprecated and will be removed in v0.14.0. Assign the `y` variable to `hue` and set `legend=False` for the same effect.\n",
      "\n",
      "  sns.barplot(x='TotalSales', y='Genre', data=sales_by_genre, palette='viridis')\n"
     ]
    },
    {
     "data": {
      "image/png": "[encoded data removed]",
      "text/plain": [
       "<Figure size 1000x600 with 1 Axes>"
      ]
     },
     "metadata": {},
     "output_type": "display_data"
    }
   ],
   "source": [
    "# Visualization: Sales by Genre\n",
    "query = \"\"\"\n",
    "SELECT g.Name AS Genre, SUM(il.UnitPrice * il.Quantity) AS TotalSales\n",
    "FROM Genre g\n",
    "JOIN Track t ON g.GenreId = t.GenreId\n",
    "JOIN InvoiceLine il ON t.TrackId = il.TrackId\n",
    "GROUP BY g.Name\n",
    "ORDER BY TotalSales DESC;\n",
    "\"\"\"\n",
    "sales_by_genre = run_query(query)\n",
    "\n",
    "# Plot sales by genre\n",
    "plt.figure(figsize=(10, 6))\n",
    "sns.barplot(x='TotalSales', y='Genre', data=sales_by_genre, palette='viridis')\n",
    "plt.title('Total Sales by Genre')\n",
    "plt.xlabel('Total Sales')\n",
    "plt.ylabel('Genre')\n",
    "plt.show()"
   ]
  },
  {
   "cell_type": "code",
   "execution_count": 14,
   "id": "260106f3-4e3e-4bf9-ab29-7c1a432e8222",
   "metadata": {},
   "outputs": [],
   "source": [
    "# Close the database connection\n",
    "conn.close()"
   ]
  }
 ],
 "metadata": {
  "kernelspec": {
   "display_name": "Python 3 (ipykernel)",
   "language": "python",
   "name": "python3"
  },
  "language_info": {
   "codemirror_mode": {
    "name": "ipython",
    "version": 3
   },
   "file_extension": ".py",
   "mimetype": "text/x-python",
   "name": "python",
   "nbconvert_exporter": "python",
   "pygments_lexer": "ipython3",
   "version": "3.12.4"
  }
 },
 "nbformat": 4,
 "nbformat_minor": 5
}
